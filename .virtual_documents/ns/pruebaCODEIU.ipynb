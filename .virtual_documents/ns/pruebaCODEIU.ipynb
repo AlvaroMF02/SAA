import numpy as np
import matplotlib.pyplot as plt

# Configuración de parámetros
x = np.linspace(-10, 10, 1000)  # Intervalo de valores
medias = [-3, 0, 3]  # Medias de las distribuciones
sigma = 1  # Desviación estándar fija

# Crear y graficar las distribuciones normales
plt.figure(figsize=(10, 6))
for media in medias:
    y = (1 / (np.sqrt(2 * np.pi) * sigma)) * np.exp(-0.5 * ((x - media) / sigma) ** 2)
    plt.plot(x, y, label=f"Media = {media}")

# Configuración de la gráfica
plt.title("Distribuciones normales con diferentes medias")
plt.xlabel("X")
plt.ylabel("Densidad de probabilidad")
plt.legend()
plt.grid(True)
plt.show()



import numpy as np
import matplotlib.pyplot as plt

# Crear datos
x = np.linspace(0, 10, 100)  # Cantidad de puntos
y = 2 * x + 5  # Línea recta (y = mx + b)
noise = np.random.normal(0, 1.5, size=len(x))  # Ruido homocedástico
y_noisy = y + noise  # Datos con ruido

# Graficar
plt.figure(figsize=(8, 5))
plt.scatter(x, y_noisy, alpha=0.7, label="Puntos con ruido", color="purple")
plt.plot(x, y, color="red", label="Línea recta")
plt.title("HOMOCEDASTICIDAD")
plt.xlabel("X")
plt.ylabel("Y")
plt.legend()
plt.grid(True)
plt.show()




import numpy as np
import matplotlib.pyplot as plt

# Crear datos
x = np.linspace(0, 10, 100)  # Valores para la variable independiente
y = 2 * x + 5  # Línea recta (y = mx + b)
noise = np.random.normal(0, x, size=len(x))  # Ruido heterocedástico (varianza aumenta con x)
y_noisy = y + noise  # Datos con ruido

# Graficar
plt.figure(figsize=(8, 5))
plt.scatter(x, y_noisy, alpha=0.7, label="Puntos con ruido heterocedástico", color="purple")
plt.plot(x, y, color="red", label="Línea recta")
plt.title("HETEROCEDASTICIDAD")
plt.xlabel("X")
plt.ylabel("Y")
plt.legend()
plt.grid(True)
plt.show()




