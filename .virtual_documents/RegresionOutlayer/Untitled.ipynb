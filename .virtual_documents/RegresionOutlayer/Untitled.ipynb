import pandas as pd
import matplotlib.pyplot as plt
from sklearn.linear_model import LinearRegression # Este modelo asume que hay una relación lineal entre la variable dependiente
from sklearn.metrics import r2_score, mean_squared_error,mean_absolute_error

# leer los datos
datos = pd.read_csv("datos.csv",header = 0)
X=datos["Time (hours)"].values.reshape(-1, 1)  # Convertir a matriz 2D
y=datos["Temperature (°C)"].values

# graficar los dados
plt.plot(X,y, linestyle='None',marker=('.'))
plt.show()

"""
Ajustar a una línea recta, graficar, dar las métricas que evalúen el resultado 
(r2 de bondad del ajuste, histograma de los residuales, error medio cuadrático,
analizar la varianza por tramos de los residuales (5 tramos))
"""
# Ajustar a una linea recta
modelo = LinearRegression()
modelo.fit(X, y)  # calcular los coeficientes que definen la mejor línea recta que ajusta los datos
y_pred = modelo.predict(X)  # Predecir valores

mse = mean_squared_error(y,y_pred)
mae = mean_absolute_error(y,y_pred)
r2 = r2_score(y,y_pred)
print(mse)
print(mae)
print(r2)
# Mostrar la gráfica con la linea
plt.figure(figsize=(8, 5))
plt.plot(X, y, linestyle='None', marker='.', label='Datos originales')
plt.plot(X, y_pred, color='red', label='Ajuste lineal')
plt.title('Con ajuste lineal')
plt.xlabel('Tiempo (horas)')
plt.ylabel('Temperatura (°C)')
plt.grid(True)
plt.show()





