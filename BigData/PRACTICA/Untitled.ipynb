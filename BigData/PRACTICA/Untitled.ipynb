{
 "cells": [
  {
   "cell_type": "code",
   "execution_count": 1,
   "id": "8f85208e-6d4f-42c3-bdc3-1263fb61cdce",
   "metadata": {},
   "outputs": [],
   "source": [
    "import pandas as pd\n",
    "import numpy as np\n",
    "from sklearn.preprocessing import LabelEncoder, OneHotEncoder\n",
    "from sklearn.impute import SimpleImputer"
   ]
  },
  {
   "cell_type": "code",
   "execution_count": null,
   "id": "6c4ec756-d4fe-47e7-b6f8-1c467ebffea6",
   "metadata": {},
   "outputs": [],
   "source": [
    "'''\n",
    "Conversi´on de variables categ´oricas:\n",
    "• Convertir directamente las variables categ´oricas a num´ericas.\n",
    "• Utilizar Label Encoding o OneHotEncoding.\n",
    "• Utilizar la probabilidad de la clase objetivo.\n",
    "Imputaci´on de valores faltantes:\n",
    "• Imputar los valores faltantes utilizando el valor 0.\n",
    "• Imputar los\n",
    "'''"
   ]
  },
  {
   "cell_type": "code",
   "execution_count": null,
   "id": "0ec9e5f8-d99d-4a94-9ff9-09c458c37403",
   "metadata": {},
   "outputs": [],
   "source": []
  }
 ],
 "metadata": {
  "kernelspec": {
   "display_name": "Python 3 (ipykernel)",
   "language": "python",
   "name": "python3"
  },
  "language_info": {
   "codemirror_mode": {
    "name": "ipython",
    "version": 3
   },
   "file_extension": ".py",
   "mimetype": "text/x-python",
   "name": "python",
   "nbconvert_exporter": "python",
   "pygments_lexer": "ipython3",
   "version": "3.12.9"
  }
 },
 "nbformat": 4,
 "nbformat_minor": 5
}
