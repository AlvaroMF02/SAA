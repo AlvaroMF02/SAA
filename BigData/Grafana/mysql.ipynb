{
 "cells": [
  {
   "cell_type": "markdown",
   "id": "755ce880",
   "metadata": {},
   "source": [
    "### Conectarse a la BD"
   ]
  },
  {
   "cell_type": "code",
   "execution_count": 3,
   "id": "05344c50",
   "metadata": {},
   "outputs": [],
   "source": [
    "import pandas as pd\n",
    "import mysql.connector\n",
    "\n",
    "\n",
    "conn = mysql.connector.connect(\n",
    "    user=\"alv_mar\",\n",
    "    password=\"16_alv_mar_93\",\n",
    "    host=\"82.165.173.36\",\n",
    "    port=\"31234\"\n",
    ")\n",
    "\n",
    "\n",
    "c = conn.cursor()\n",
    "\n"
   ]
  },
  {
   "cell_type": "code",
   "execution_count": 4,
   "id": "cb0f98c7-90e7-41f9-8c8e-09fb67a54e3b",
   "metadata": {},
   "outputs": [],
   "source": [
    "c.execute(\"USE bd_alv_mar_graf1\")"
   ]
  },
  {
   "cell_type": "markdown",
   "id": "566e2dff",
   "metadata": {},
   "source": [
    "### Crear las tablas e insertar datos"
   ]
  },
  {
   "cell_type": "code",
   "execution_count": 6,
   "id": "24c94403",
   "metadata": {},
   "outputs": [
    {
     "ename": "IntegrityError",
     "evalue": "1062 (23000): Duplicate entry '101' for key 'productor.PRIMARY'",
     "output_type": "error",
     "traceback": [
      "\u001b[0;31m---------------------------------------------------------------------------\u001b[0m",
      "\u001b[0;31mIntegrityError\u001b[0m                            Traceback (most recent call last)",
      "Cell \u001b[0;32mIn[6], line 35\u001b[0m\n\u001b[1;32m     22\u001b[0m c\u001b[38;5;241m.\u001b[39mexecute(\u001b[38;5;124m'''\u001b[39m\n\u001b[1;32m     23\u001b[0m \u001b[38;5;124mCREATE TABLE IF NOT EXISTS alquiler (\u001b[39m\n\u001b[1;32m     24\u001b[0m \u001b[38;5;124m    id INT PRIMARY KEY,\u001b[39m\n\u001b[0;32m   (...)\u001b[0m\n\u001b[1;32m     31\u001b[0m \u001b[38;5;124m);\u001b[39m\n\u001b[1;32m     32\u001b[0m \u001b[38;5;124m'''\u001b[39m)\n\u001b[1;32m     34\u001b[0m \u001b[38;5;66;03m# Insertar datos en productor\u001b[39;00m\n\u001b[0;32m---> 35\u001b[0m \u001b[43mc\u001b[49m\u001b[38;5;241;43m.\u001b[39;49m\u001b[43mexecute\u001b[49m\u001b[43m(\u001b[49m\u001b[38;5;124;43m'''\u001b[39;49m\n\u001b[1;32m     36\u001b[0m \u001b[38;5;124;43mINSERT INTO productor (id, nombre) VALUES\u001b[39;49m\n\u001b[1;32m     37\u001b[0m \u001b[38;5;124;43m(101, \u001b[39;49m\u001b[38;5;124;43m'\u001b[39;49m\u001b[38;5;124;43mProductor A\u001b[39;49m\u001b[38;5;124;43m'\u001b[39;49m\u001b[38;5;124;43m),\u001b[39;49m\n\u001b[1;32m     38\u001b[0m \u001b[38;5;124;43m(102, \u001b[39;49m\u001b[38;5;124;43m'\u001b[39;49m\u001b[38;5;124;43mProductor B\u001b[39;49m\u001b[38;5;124;43m'\u001b[39;49m\u001b[38;5;124;43m),\u001b[39;49m\n\u001b[1;32m     39\u001b[0m \u001b[38;5;124;43m(103, \u001b[39;49m\u001b[38;5;124;43m'\u001b[39;49m\u001b[38;5;124;43mProductor C\u001b[39;49m\u001b[38;5;124;43m'\u001b[39;49m\u001b[38;5;124;43m),\u001b[39;49m\n\u001b[1;32m     40\u001b[0m \u001b[38;5;124;43m(104, \u001b[39;49m\u001b[38;5;124;43m'\u001b[39;49m\u001b[38;5;124;43mProductor D\u001b[39;49m\u001b[38;5;124;43m'\u001b[39;49m\u001b[38;5;124;43m),\u001b[39;49m\n\u001b[1;32m     41\u001b[0m \u001b[38;5;124;43m(105, \u001b[39;49m\u001b[38;5;124;43m'\u001b[39;49m\u001b[38;5;124;43mProductor E\u001b[39;49m\u001b[38;5;124;43m'\u001b[39;49m\u001b[38;5;124;43m),\u001b[39;49m\n\u001b[1;32m     42\u001b[0m \u001b[38;5;124;43m(106, \u001b[39;49m\u001b[38;5;124;43m'\u001b[39;49m\u001b[38;5;124;43mProductor F\u001b[39;49m\u001b[38;5;124;43m'\u001b[39;49m\u001b[38;5;124;43m),\u001b[39;49m\n\u001b[1;32m     43\u001b[0m \u001b[38;5;124;43m(107, \u001b[39;49m\u001b[38;5;124;43m'\u001b[39;49m\u001b[38;5;124;43mProductor G\u001b[39;49m\u001b[38;5;124;43m'\u001b[39;49m\u001b[38;5;124;43m),\u001b[39;49m\n\u001b[1;32m     44\u001b[0m \u001b[38;5;124;43m(108, \u001b[39;49m\u001b[38;5;124;43m'\u001b[39;49m\u001b[38;5;124;43mProductor H\u001b[39;49m\u001b[38;5;124;43m'\u001b[39;49m\u001b[38;5;124;43m),\u001b[39;49m\n\u001b[1;32m     45\u001b[0m \u001b[38;5;124;43m(109, \u001b[39;49m\u001b[38;5;124;43m'\u001b[39;49m\u001b[38;5;124;43mProductor I\u001b[39;49m\u001b[38;5;124;43m'\u001b[39;49m\u001b[38;5;124;43m),\u001b[39;49m\n\u001b[1;32m     46\u001b[0m \u001b[38;5;124;43m(110, \u001b[39;49m\u001b[38;5;124;43m'\u001b[39;49m\u001b[38;5;124;43mProductor J\u001b[39;49m\u001b[38;5;124;43m'\u001b[39;49m\u001b[38;5;124;43m);\u001b[39;49m\n\u001b[1;32m     47\u001b[0m \u001b[38;5;124;43m'''\u001b[39;49m\u001b[43m)\u001b[49m\n\u001b[1;32m     49\u001b[0m \u001b[38;5;66;03m# Insertar datos en equipo\u001b[39;00m\n\u001b[1;32m     50\u001b[0m c\u001b[38;5;241m.\u001b[39mexecute(\u001b[38;5;124m'''\u001b[39m\n\u001b[1;32m     51\u001b[0m \u001b[38;5;124mINSERT INTO equipo (id, nombre) VALUES\u001b[39m\n\u001b[1;32m     52\u001b[0m \u001b[38;5;124m(201, \u001b[39m\u001b[38;5;124m'\u001b[39m\u001b[38;5;124mCámara Sony\u001b[39m\u001b[38;5;124m'\u001b[39m\u001b[38;5;124m),\u001b[39m\n\u001b[0;32m   (...)\u001b[0m\n\u001b[1;32m     61\u001b[0m \u001b[38;5;124m(210, \u001b[39m\u001b[38;5;124m'\u001b[39m\u001b[38;5;124mSoftbox Neewer\u001b[39m\u001b[38;5;124m'\u001b[39m\u001b[38;5;124m);\u001b[39m\n\u001b[1;32m     62\u001b[0m \u001b[38;5;124m'''\u001b[39m)\n",
      "File \u001b[0;32m~/python_envs/venv1/lib/python3.12/site-packages/mysql/connector/cursor.py:537\u001b[0m, in \u001b[0;36mMySQLCursor.execute\u001b[0;34m(self, operation, params, multi)\u001b[0m\n\u001b[1;32m    534\u001b[0m     \u001b[38;5;28;01mreturn\u001b[39;00m \u001b[38;5;28mself\u001b[39m\u001b[38;5;241m.\u001b[39m_execute_iter(\u001b[38;5;28mself\u001b[39m\u001b[38;5;241m.\u001b[39m_connection\u001b[38;5;241m.\u001b[39mcmd_query_iter(stmt))\n\u001b[1;32m    536\u001b[0m \u001b[38;5;28;01mtry\u001b[39;00m:\n\u001b[0;32m--> 537\u001b[0m     \u001b[38;5;28mself\u001b[39m\u001b[38;5;241m.\u001b[39m_handle_result(\u001b[38;5;28;43mself\u001b[39;49m\u001b[38;5;241;43m.\u001b[39;49m\u001b[43m_connection\u001b[49m\u001b[38;5;241;43m.\u001b[39;49m\u001b[43mcmd_query\u001b[49m\u001b[43m(\u001b[49m\u001b[43mstmt\u001b[49m\u001b[43m)\u001b[49m)\n\u001b[1;32m    538\u001b[0m \u001b[38;5;28;01mexcept\u001b[39;00m InterfaceError \u001b[38;5;28;01mas\u001b[39;00m err:\n\u001b[1;32m    539\u001b[0m     \u001b[38;5;28;01mif\u001b[39;00m \u001b[38;5;28mself\u001b[39m\u001b[38;5;241m.\u001b[39m_connection\u001b[38;5;241m.\u001b[39mhave_next_result:\n",
      "File \u001b[0;32m~/python_envs/venv1/lib/python3.12/site-packages/mysql/connector/opentelemetry/context_propagation.py:97\u001b[0m, in \u001b[0;36mwith_context_propagation.<locals>.wrapper\u001b[0;34m(cnx, *args, **kwargs)\u001b[0m\n\u001b[1;32m     95\u001b[0m \u001b[38;5;66;03m# pylint: disable=possibly-used-before-assignment\u001b[39;00m\n\u001b[1;32m     96\u001b[0m \u001b[38;5;28;01mif\u001b[39;00m \u001b[38;5;129;01mnot\u001b[39;00m OTEL_ENABLED \u001b[38;5;129;01mor\u001b[39;00m \u001b[38;5;129;01mnot\u001b[39;00m cnx\u001b[38;5;241m.\u001b[39motel_context_propagation:\n\u001b[0;32m---> 97\u001b[0m     \u001b[38;5;28;01mreturn\u001b[39;00m \u001b[43mmethod\u001b[49m\u001b[43m(\u001b[49m\u001b[43mcnx\u001b[49m\u001b[43m,\u001b[49m\u001b[43m \u001b[49m\u001b[38;5;241;43m*\u001b[39;49m\u001b[43margs\u001b[49m\u001b[43m,\u001b[49m\u001b[43m \u001b[49m\u001b[38;5;241;43m*\u001b[39;49m\u001b[38;5;241;43m*\u001b[39;49m\u001b[43mkwargs\u001b[49m\u001b[43m)\u001b[49m\n\u001b[1;32m     99\u001b[0m current_span \u001b[38;5;241m=\u001b[39m trace\u001b[38;5;241m.\u001b[39mget_current_span()\n\u001b[1;32m    100\u001b[0m tp_header \u001b[38;5;241m=\u001b[39m \u001b[38;5;28;01mNone\u001b[39;00m\n",
      "File \u001b[0;32m~/python_envs/venv1/lib/python3.12/site-packages/mysql/connector/connection.py:872\u001b[0m, in \u001b[0;36mMySQLConnection.cmd_query\u001b[0;34m(self, query, raw, buffered, raw_as_string)\u001b[0m\n\u001b[1;32m    870\u001b[0m query \u001b[38;5;241m=\u001b[39m \u001b[38;5;28mbytes\u001b[39m(packet)\n\u001b[1;32m    871\u001b[0m \u001b[38;5;28;01mtry\u001b[39;00m:\n\u001b[0;32m--> 872\u001b[0m     result \u001b[38;5;241m=\u001b[39m \u001b[38;5;28;43mself\u001b[39;49m\u001b[38;5;241;43m.\u001b[39;49m\u001b[43m_handle_result\u001b[49m\u001b[43m(\u001b[49m\u001b[38;5;28;43mself\u001b[39;49m\u001b[38;5;241;43m.\u001b[39;49m\u001b[43m_send_cmd\u001b[49m\u001b[43m(\u001b[49m\u001b[43mServerCmd\u001b[49m\u001b[38;5;241;43m.\u001b[39;49m\u001b[43mQUERY\u001b[49m\u001b[43m,\u001b[49m\u001b[43m \u001b[49m\u001b[43mquery\u001b[49m\u001b[43m)\u001b[49m\u001b[43m)\u001b[49m\n\u001b[1;32m    873\u001b[0m \u001b[38;5;28;01mexcept\u001b[39;00m ProgrammingError \u001b[38;5;28;01mas\u001b[39;00m err:\n\u001b[1;32m    874\u001b[0m     \u001b[38;5;28;01mif\u001b[39;00m err\u001b[38;5;241m.\u001b[39merrno \u001b[38;5;241m==\u001b[39m \u001b[38;5;241m3948\u001b[39m \u001b[38;5;129;01mand\u001b[39;00m \u001b[38;5;124m\"\u001b[39m\u001b[38;5;124mLoading local data is disabled\u001b[39m\u001b[38;5;124m\"\u001b[39m \u001b[38;5;129;01min\u001b[39;00m err\u001b[38;5;241m.\u001b[39mmsg:\n",
      "File \u001b[0;32m~/python_envs/venv1/lib/python3.12/site-packages/mysql/connector/connection.py:648\u001b[0m, in \u001b[0;36mMySQLConnection._handle_result\u001b[0;34m(self, packet)\u001b[0m\n\u001b[1;32m    646\u001b[0m     \u001b[38;5;28;01mreturn\u001b[39;00m \u001b[38;5;28mself\u001b[39m\u001b[38;5;241m.\u001b[39m_handle_eof(packet)\n\u001b[1;32m    647\u001b[0m \u001b[38;5;28;01mif\u001b[39;00m packet[\u001b[38;5;241m4\u001b[39m] \u001b[38;5;241m==\u001b[39m \u001b[38;5;241m255\u001b[39m:\n\u001b[0;32m--> 648\u001b[0m     \u001b[38;5;28;01mraise\u001b[39;00m get_exception(packet)\n\u001b[1;32m    650\u001b[0m \u001b[38;5;66;03m# We have a text result set\u001b[39;00m\n\u001b[1;32m    651\u001b[0m column_count \u001b[38;5;241m=\u001b[39m \u001b[38;5;28mself\u001b[39m\u001b[38;5;241m.\u001b[39m_protocol\u001b[38;5;241m.\u001b[39mparse_column_count(packet)\n",
      "\u001b[0;31mIntegrityError\u001b[0m: 1062 (23000): Duplicate entry '101' for key 'productor.PRIMARY'"
     ]
    }
   ],
   "source": [
    "c.execute('''\n",
    "CREATE TABLE IF NOT EXISTS productor (\n",
    "    id INT PRIMARY KEY,\n",
    "    nombre TEXT\n",
    ");\n",
    "''')\n",
    "\n",
    "c.execute('''\n",
    "CREATE TABLE IF NOT EXISTS equipo (\n",
    "    id INT PRIMARY KEY,\n",
    "    nombre TEXT\n",
    ");\n",
    "''')\n",
    "\n",
    "c.execute('''\n",
    "CREATE TABLE IF NOT EXISTS proyecto (\n",
    "    id INT PRIMARY KEY,\n",
    "    nombre TEXT\n",
    ");\n",
    "''')\n",
    "\n",
    "c.execute('''\n",
    "CREATE TABLE IF NOT EXISTS alquiler (\n",
    "    id INT PRIMARY KEY,\n",
    "    productor_id INT,\n",
    "    equipo_id INT,\n",
    "    proyecto_id INT,\n",
    "    FOREIGN KEY (proyecto_id) REFERENCES proyecto (id),\n",
    "    FOREIGN KEY (productor_id) REFERENCES productor (id),\n",
    "    FOREIGN KEY (equipo_id) REFERENCES equipo (id)\n",
    ");\n",
    "''')\n",
    "\n",
    "# Insertar datos en productor\n",
    "c.execute('''\n",
    "INSERT INTO productor (id, nombre) VALUES\n",
    "(101, 'Productor A'),\n",
    "(102, 'Productor B'),\n",
    "(103, 'Productor C'),\n",
    "(104, 'Productor D'),\n",
    "(105, 'Productor E'),\n",
    "(106, 'Productor F'),\n",
    "(107, 'Productor G'),\n",
    "(108, 'Productor H'),\n",
    "(109, 'Productor I'),\n",
    "(110, 'Productor J');\n",
    "''')\n",
    "\n",
    "# Insertar datos en equipo\n",
    "c.execute('''\n",
    "INSERT INTO equipo (id, nombre) VALUES\n",
    "(201, 'Cámara Sony'),\n",
    "(202, 'Micrófono Rode'),\n",
    "(203, 'Iluminación LED'),\n",
    "(204, 'Dron DJI'),\n",
    "(205, 'Estabilizador Gimbal'),\n",
    "(206, 'Trípode Manfrotto'),\n",
    "(207, 'Lente Canon'),\n",
    "(208, 'Monitor de producción'),\n",
    "(209, 'Grabador Zoom'),\n",
    "(210, 'Softbox Neewer');\n",
    "''')\n",
    "\n",
    "# Insertar datos en proyecto\n",
    "c.execute('''\n",
    "INSERT INTO proyecto (id, nombre) VALUES\n",
    "(301, 'Documental A'),\n",
    "(302, 'Película B'),\n",
    "(303, 'Corto C'),\n",
    "(304, 'Serie D'),\n",
    "(305, 'Comercial E'),\n",
    "(306, 'Videoclip F'),\n",
    "(307, 'Entrevista G'),\n",
    "(308, 'Conferencia H'),\n",
    "(309, 'Taller I'),\n",
    "(310, 'Evento J');\n",
    "''')\n",
    "\n",
    "# Insertar datos en alquiler, asegurando la correspondencia con productor, equipo y proyecto\n",
    "c.execute('''\n",
    "INSERT INTO alquiler (id, productor_id, equipo_id, proyecto_id) VALUES\n",
    "(1, 101, 201, 301),\n",
    "(2, 102, 202, 302),\n",
    "(3, 103, 203, 303),\n",
    "(4, 104, 204, 304),\n",
    "(5, 105, 205, 305),\n",
    "(6, 106, 206, 306),\n",
    "(7, 107, 207, 307),\n",
    "(8, 108, 208, 308),\n",
    "(9, 109, 209, 309),\n",
    "(10, 110, 210, 310);\n",
    "''')\n",
    "conn.commit()"
   ]
  },
  {
   "cell_type": "code",
   "execution_count": 7,
   "id": "7b7915b0-f5a1-461b-ad6c-27f82147668d",
   "metadata": {},
   "outputs": [],
   "source": [
    "\n",
    "\n",
    "\n",
    "# Cierra la conexión con la base de datos\n",
    "conn.close()"
   ]
  },
  {
   "cell_type": "code",
   "execution_count": null,
   "id": "254b04d8-1268-40d2-a56c-c08d3c7f191e",
   "metadata": {},
   "outputs": [],
   "source": []
  }
 ],
 "metadata": {
  "kernelspec": {
   "display_name": "Python 3 (ipykernel)",
   "language": "python",
   "name": "python3"
  },
  "language_info": {
   "codemirror_mode": {
    "name": "ipython",
    "version": 3
   },
   "file_extension": ".py",
   "mimetype": "text/x-python",
   "name": "python",
   "nbconvert_exporter": "python",
   "pygments_lexer": "ipython3",
   "version": "3.12.3"
  }
 },
 "nbformat": 4,
 "nbformat_minor": 5
}
