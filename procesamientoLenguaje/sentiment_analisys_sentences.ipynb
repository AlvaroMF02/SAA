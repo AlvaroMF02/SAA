{
 "cells": [
  {
   "cell_type": "code",
   "execution_count": 6,
   "id": "561f8ce5-2dde-443a-874d-d7f65451aade",
   "metadata": {},
   "outputs": [
    {
     "name": "stdout",
     "output_type": "stream",
     "text": [
      "Descargando los corpus de TextBlob (puede tardar unos segundos)...\n"
     ]
    },
    {
     "name": "stderr",
     "output_type": "stream",
     "text": [
      "[nltk_data] Downloading package brown to /home/r/nltk_data...\n",
      "[nltk_data]   Package brown is already up-to-date!\n",
      "[nltk_data] Downloading package punkt_tab to /home/r/nltk_data...\n",
      "[nltk_data]   Package punkt_tab is already up-to-date!\n",
      "[nltk_data] Downloading package wordnet to /home/r/nltk_data...\n",
      "[nltk_data]   Package wordnet is already up-to-date!\n",
      "[nltk_data] Downloading package averaged_perceptron_tagger_eng to\n",
      "[nltk_data]     /home/r/nltk_data...\n",
      "[nltk_data]   Package averaged_perceptron_tagger_eng is already up-to-\n",
      "[nltk_data]       date!\n",
      "[nltk_data] Downloading package conll2000 to /home/r/nltk_data...\n",
      "[nltk_data]   Package conll2000 is already up-to-date!\n",
      "[nltk_data] Downloading package movie_reviews to /home/r/nltk_data...\n",
      "[nltk_data]   Package movie_reviews is already up-to-date!\n"
     ]
    },
    {
     "name": "stdout",
     "output_type": "stream",
     "text": [
      "Oración 1: I love the content on Analytics Lane's blog, the articles are fantastic!\n",
      "  Polaridad: 0.5\n",
      "  Subjetividad: 0.75\n",
      "\n",
      "Oración 2: However, I sometimes find some posts are too long and could be more concise.\n",
      "  Polaridad: 0.18333333333333335\n",
      "  Subjetividad: 0.5\n",
      "\n",
      "Oración 3: Overall, I am very pleased with the quality and frequency of the posts.\n",
      "  Polaridad: 0.325\n",
      "  Subjetividad: 0.5\n",
      "\n"
     ]
    }
   ],
   "source": [
    "import nltk\n",
    "from deep_translator import GoogleTranslator\n",
    "import textblob.download_corpora as download_corpora  # Importamos el módulo\n",
    "\n",
    "def download_nltk_and_textblob_resources():\n",
    "    # Descargar datos de NLTK necesarios\n",
    "    try:\n",
    "        nltk.data.find('tokenizers/punkt')\n",
    "    except LookupError:\n",
    "        print(\"Descargando el recurso 'punkt' de NLTK...\")\n",
    "        nltk.download('punkt')\n",
    "    \n",
    "    # Descargar corpus necesarios de TextBlob\n",
    "    print(\"Descargando los corpus de TextBlob (puede tardar unos segundos)...\")\n",
    "    download_corpora.download_all()  # Aquí llamamos a la función del módulo\n",
    "\n",
    "def main():\n",
    "    download_nltk_and_textblob_resources()\n",
    "    \n",
    "    from textblob import TextBlob\n",
    "\n",
    "    texto = \"\"\"\n",
    "    ¡Me fascina el contenido del blog de Analytics Lane, los artículos son fantásticos!\n",
    "    Sin embargo, a veces encuentro que algunos posts son demasiado largos y podrían ser más concisos.\n",
    "    En general, estoy muy satisfecho con la calidad y la frecuencia de las publicaciones.\n",
    "    \"\"\"\n",
    "\n",
    "    texto_en = GoogleTranslator(source='es', target='en').translate(texto)\n",
    "    \n",
    "    blob = TextBlob(texto_en)\n",
    "    oraciones = blob.sentences\n",
    "    \n",
    "    for idx, oracion in enumerate(oraciones, 1):\n",
    "        polaridad = oracion.sentiment.polarity\n",
    "        subjetividad = oracion.sentiment.subjectivity\n",
    "        print(f\"Oración {idx}: {oracion}\")\n",
    "        print(f\"  Polaridad: {polaridad}\")\n",
    "        print(f\"  Subjetividad: {subjetividad}\\n\")\n",
    "\n",
    "if __name__ == \"__main__\":\n",
    "    main()\n"
   ]
  },
  {
   "cell_type": "code",
   "execution_count": null,
   "id": "40f0fc59-f26e-4d0f-b4fb-c7d646689c26",
   "metadata": {},
   "outputs": [],
   "source": []
  }
 ],
 "metadata": {
  "kernelspec": {
   "display_name": "Python 3 (ipykernel)",
   "language": "python",
   "name": "python3"
  },
  "language_info": {
   "codemirror_mode": {
    "name": "ipython",
    "version": 3
   },
   "file_extension": ".py",
   "mimetype": "text/x-python",
   "name": "python",
   "nbconvert_exporter": "python",
   "pygments_lexer": "ipython3",
   "version": "3.12.3"
  }
 },
 "nbformat": 4,
 "nbformat_minor": 5
}
