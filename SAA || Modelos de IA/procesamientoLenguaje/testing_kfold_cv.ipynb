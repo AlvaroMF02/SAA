{
 "cells": [
  {
   "cell_type": "code",
   "execution_count": 2,
   "id": "f827aafc-0622-4863-ad2c-690832b61956",
   "metadata": {},
   "outputs": [
    {
     "name": "stdout",
     "output_type": "stream",
     "text": [
      "Sentimiento: Sentiment(polarity=0.625, subjectivity=0.6)\n"
     ]
    },
    {
     "ename": "AttributeError",
     "evalue": "'TextBlob' object has no attribute 'translate'",
     "output_type": "error",
     "traceback": [
      "\u001b[0;31m---------------------------------------------------------------------------\u001b[0m",
      "\u001b[0;31mAttributeError\u001b[0m                            Traceback (most recent call last)",
      "Cell \u001b[0;32mIn[2], line 19\u001b[0m\n\u001b[1;32m     16\u001b[0m \u001b[38;5;28mprint\u001b[39m(\u001b[38;5;124mf\u001b[39m\u001b[38;5;124m\"\u001b[39m\u001b[38;5;124mSentimiento: \u001b[39m\u001b[38;5;132;01m{\u001b[39;00msentimiento\u001b[38;5;132;01m}\u001b[39;00m\u001b[38;5;124m\"\u001b[39m)\n\u001b[1;32m     18\u001b[0m \u001b[38;5;66;03m# Traducir el texto a español\u001b[39;00m\n\u001b[0;32m---> 19\u001b[0m texto_traducido \u001b[38;5;241m=\u001b[39m \u001b[43mblob\u001b[49m\u001b[38;5;241;43m.\u001b[39;49m\u001b[43mtranslate\u001b[49m(to\u001b[38;5;241m=\u001b[39m\u001b[38;5;124m'\u001b[39m\u001b[38;5;124mes\u001b[39m\u001b[38;5;124m'\u001b[39m)\n\u001b[1;32m     20\u001b[0m \u001b[38;5;28mprint\u001b[39m(\u001b[38;5;124mf\u001b[39m\u001b[38;5;124m\"\u001b[39m\u001b[38;5;124mTexto traducido: \u001b[39m\u001b[38;5;132;01m{\u001b[39;00mtexto_traducido\u001b[38;5;132;01m}\u001b[39;00m\u001b[38;5;124m\"\u001b[39m)\n",
      "\u001b[0;31mAttributeError\u001b[0m: 'TextBlob' object has no attribute 'translate'"
     ]
    }
   ],
   "source": [
    "# Primero, debes instalar TextBlob si no lo tienes\n",
    "# pip install textblob\n",
    "\n",
    "from textblob import TextBlob\n",
    "\n",
    "# Texto de ejemplo\n",
    "texto = \"I love programming in Python!\"\n",
    "\n",
    "# Crear un objeto TextBlob\n",
    "blob = TextBlob(texto)\n",
    "\n",
    "# Analizar el sentimiento\n",
    "sentimiento = blob.sentiment\n",
    "\n",
    "# Mostrar el sentimiento\n",
    "print(f\"Sentimiento: {sentimiento}\")\n",
    "\n",
    "# Traducir el texto a español\n",
    "texto_traducido = blob.translate(to='es')\n",
    "print(f\"Texto traducido: {texto_traducido}\")\n"
   ]
  },
  {
   "cell_type": "code",
   "execution_count": null,
   "id": "55df6b7c",
   "metadata": {},
   "outputs": [],
   "source": []
  }
 ],
 "metadata": {
  "kernelspec": {
   "display_name": "Python 3",
   "language": "python",
   "name": "python3"
  },
  "language_info": {
   "codemirror_mode": {
    "name": "ipython",
    "version": 3
   },
   "file_extension": ".py",
   "mimetype": "text/x-python",
   "name": "python",
   "nbconvert_exporter": "python",
   "pygments_lexer": "ipython3",
   "version": "3.10.12"
  },
  "nteract": {
   "version": "nteract-front-end@1.0.0"
  }
 },
 "nbformat": 4,
 "nbformat_minor": 5
}
