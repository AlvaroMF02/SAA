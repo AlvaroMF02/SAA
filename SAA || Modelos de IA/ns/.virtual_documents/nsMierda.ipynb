import matplotlib.pyplot as plt
import numpy as np
m = 2
b = 40

# err = np.random.rand(100)-0.5 # para que no se pasen
# x = np.array(range(0,100))
# hacer la norma
err = np.random.normal(loc=0,scale=20,size=1000)-0.5
x = np.array(range(0,1000))
y = m*x + b
y1 = y + err * 20

plt.plot(x,y1,linestyle="none",marker=".")
plt.plot(x,y)
plt.plot(x,err*20+40,linestyle="none",marker=".")
plt.show()

plt.hist(err)
plt.show()




