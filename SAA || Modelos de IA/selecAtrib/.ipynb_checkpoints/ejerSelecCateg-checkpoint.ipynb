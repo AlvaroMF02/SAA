{
 "cells": [
  {
   "cell_type": "code",
   "execution_count": 11,
   "id": "b5944f84-fb5f-488c-9e43-9f5774913d8c",
   "metadata": {},
   "outputs": [],
   "source": [
    "import numpy as np\n",
    "from sklearn.ensemble import RandomForestClassifier\n",
    "from sklearn import datasets\n",
    "from sklearn.model_selection import train_test_split\n",
    "from sklearn.feature_selection import SelectFromModel\n",
    "from sklearn.metrics import accuracy_score\n",
    "import matplotlib.pyplot as plt"
   ]
  },
  {
   "cell_type": "code",
   "execution_count": 16,
   "id": "83123f45-d582-48be-a856-dce8c1dbafa1",
   "metadata": {},
   "outputs": [],
   "source": [
    "iris = datasets.load_iris()\n",
    "\n",
    "feat_labels = ['Sepal Length','Sepal Width','Petal Length','Petal Width']\n",
    "\n",
    "X = iris.data\n",
    "y = iris.target"
   ]
  },
  {
   "cell_type": "code",
   "execution_count": 23,
   "id": "ff7bc4f1-fa8d-409c-8e09-d4956aa5f5fb",
   "metadata": {},
   "outputs": [
    {
     "data": {
      "image/png": "[encoded data removed]",
      "text/plain": [
       "<Figure size 640x480 with 1 Axes>"
      ]
     },
     "metadata": {},
     "output_type": "display_data"
    },
    {
     "name": "stdout",
     "output_type": "stream",
     "text": [
      "('Sepal Length', np.float64(0.680817782356599))\n",
      "('Sepal Width', np.float64(0.3191822176434011))\n",
      "Sepal Length\n",
      "Sepal Width\n"
     ]
    },
    {
     "ename": "NameError",
     "evalue": "name 'clf_important' is not defined",
     "output_type": "error",
     "traceback": [
      "\u001b[0;31m---------------------------------------------------------------------------\u001b[0m",
      "\u001b[0;31mNameError\u001b[0m                                 Traceback (most recent call last)",
      "Cell \u001b[0;32mIn[23], line 45\u001b[0m\n\u001b[1;32m     42\u001b[0m clf1_important\u001b[38;5;241m.\u001b[39mfit(x1_important_train, y1_train)\n\u001b[1;32m     44\u001b[0m \u001b[38;5;66;03m# Apply The Full Featured Classifier To The Test Data\u001b[39;00m\n\u001b[0;32m---> 45\u001b[0m y1_important_pred \u001b[38;5;241m=\u001b[39m \u001b[43mclf_important\u001b[49m\u001b[38;5;241m.\u001b[39mpredict(x1_important_test)\n\u001b[1;32m     46\u001b[0m \u001b[38;5;66;03m# View The Accuracy Of Our Limited Feature (2 Features) Model\u001b[39;00m\n\u001b[1;32m     47\u001b[0m accuracy_score(y1_test, y1_important_pred)\n",
      "\u001b[0;31mNameError\u001b[0m: name 'clf_important' is not defined"
     ]
    }
   ],
   "source": [
    "# Primero SL con SW\n",
    "x1 = X[:, :2] # cojo solo las columnas que me interesan\n",
    "x1_train, x1_test, y1_train, y1_test = train_test_split(x1, y, test_size=0.5, random_state=0)\n",
    "\n",
    "# Scatter de los datos con los que vamos a entrenar\n",
    "plt.scatter(x1[:, 0], x1[:, 1])\n",
    "\n",
    "plt.xlabel(\"Sepal Length\")\n",
    "plt.ylabel(\"Sepal Width\")\n",
    "\n",
    "plt.show()\n",
    "\n",
    "# ------------- ver la importancia de cada categoria -------------\n",
    "# Create a random forest classifier\n",
    "clf1 = RandomForestClassifier(n_estimators=10000, random_state=0, n_jobs=-1)\n",
    "# Train the classifier\n",
    "clf1.fit(x1_train, y1_train)\n",
    "# sacar los datos con la importancia\n",
    "for feature in zip(feat_labels, clf1.feature_importances_):\n",
    "    print(feature)\n",
    "\n",
    "# ------------- ns -------------\n",
    "# Create a selector object that will use the random forest classifier to identify\n",
    "# features that have an importance of more than 0.15\n",
    "sfm1 = SelectFromModel(clf1, threshold=0.15)\n",
    "# Train the selector\n",
    "sfm1.fit(x1_train, y1_train)\n",
    "\n",
    "# Print the names of the most important features\n",
    "for feature_list_index in sfm1.get_support(indices=True):\n",
    "    print(feat_labels[feature_list_index])\n",
    "\n",
    "# Transform the data to create a new dataset containing only the most important features\n",
    "# Note: We have to apply the transform to both the training X and test X data.\n",
    "x1_important_train = sfm1.transform(x1_train)\n",
    "x1_important_test = sfm1.transform(x1_test)\n",
    "\n",
    "# ------------- accuracy total -------------\n",
    "# Create a new random forest classifier for the most important features\n",
    "clf1_important = RandomForestClassifier(n_estimators=10000, random_state=0, n_jobs=-1)\n",
    "# Train the new classifier on the new dataset containing the most important features\n",
    "clf1_important.fit(x1_important_train, y1_train)\n",
    "\n",
    "# Apply The Full Featured Classifier To The Test Data\n",
    "y1_important_pred = clf_important.predict(x1_important_test)\n",
    "# View The Accuracy Of Our Limited Feature (2 Features) Model\n",
    "accuracy_score(y1_test, y1_important_pred)\n",
    "\n",
    "# CAMBIAR LOS NOMBREEEEES POR ESO DA ERROR"
   ]
  },
  {
   "cell_type": "code",
   "execution_count": null,
   "id": "06077876-b147-43dc-a1fa-0cd50e4b2560",
   "metadata": {},
   "outputs": [],
   "source": [
    "# Primero SL con PL"
   ]
  },
  {
   "cell_type": "code",
   "execution_count": null,
   "id": "6e7fd4ed-36f8-47e8-97f6-437ce0644a96",
   "metadata": {},
   "outputs": [],
   "source": [
    "# Primero SL con PL"
   ]
  },
  {
   "cell_type": "code",
   "execution_count": null,
   "id": "a6e40be4-44ab-48d5-93d2-3b4967af786d",
   "metadata": {},
   "outputs": [],
   "source": [
    "# Primero SW con PL"
   ]
  },
  {
   "cell_type": "code",
   "execution_count": null,
   "id": "d21de995-daf8-470e-8b5f-3e2c477b878b",
   "metadata": {},
   "outputs": [],
   "source": [
    "# Primero SW con PW"
   ]
  },
  {
   "cell_type": "code",
   "execution_count": null,
   "id": "cf46685d-d4c2-4431-ba83-45b287dc0d6d",
   "metadata": {},
   "outputs": [],
   "source": [
    "# Primero PL con PW"
   ]
  },
  {
   "cell_type": "code",
   "execution_count": null,
   "id": "cc9f7c21-3dfe-4a40-b4cf-d2e79bcfdf64",
   "metadata": {},
   "outputs": [],
   "source": [
    "# hacer el dataframe con pandas de cat1, cat2, acc1, acc2, accFinal"
   ]
  }
 ],
 "metadata": {
  "kernelspec": {
   "display_name": "Python 3 (ipykernel)",
   "language": "python",
   "name": "python3"
  },
  "language_info": {
   "codemirror_mode": {
    "name": "ipython",
    "version": 3
   },
   "file_extension": ".py",
   "mimetype": "text/x-python",
   "name": "python",
   "nbconvert_exporter": "python",
   "pygments_lexer": "ipython3",
   "version": "3.10.12"
  }
 },
 "nbformat": 4,
 "nbformat_minor": 5
}
