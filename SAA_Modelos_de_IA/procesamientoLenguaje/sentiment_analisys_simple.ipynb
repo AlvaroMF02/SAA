{
 "cells": [
  {
   "cell_type": "code",
   "execution_count": 3,
   "id": "6660e339-f2d6-4221-89ed-9c4e46e7c9c1",
   "metadata": {},
   "outputs": [
    {
     "name": "stdout",
     "output_type": "stream",
     "text": [
      "Texto original: Muy buenos zapatos, ha durado toda una semana\n",
      "Traducción: Very good shoes, lasted a whole week\n",
      "Polaridad: 0.5549999999999999\n",
      "Subjetividad: 0.5900000000000001\n"
     ]
    }
   ],
   "source": [
    "from deep_translator import GoogleTranslator\n",
    "from textblob import TextBlob\n",
    "\n",
    "# Texto en español\n",
    "texto = \"Muy buenos zapatos, ha durado toda una semana\"\n",
    "\n",
    "# Traducir al inglés\n",
    "texto_en = GoogleTranslator(source='es', target='en').translate(texto)\n",
    "\n",
    "# Análisis de sentimiento con TextBlob\n",
    "blob = TextBlob(texto_en)\n",
    "polaridad = blob.sentiment.polarity\n",
    "subjetividad = blob.sentiment.subjectivity\n",
    "\n",
    "# Mostrar resultados\n",
    "print(f\"Texto original: {texto}\")\n",
    "print(f\"Traducción: {texto_en}\")\n",
    "print(f\"Polaridad: {polaridad}\")\n",
    "print(f\"Subjetividad: {subjetividad}\")\n",
    "\n"
   ]
  },
  {
   "cell_type": "code",
   "execution_count": null,
   "id": "5bfcde70-016b-451b-81f8-967564b78eb3",
   "metadata": {},
   "outputs": [],
   "source": []
  }
 ],
 "metadata": {
  "kernelspec": {
   "display_name": "Python 3 (ipykernel)",
   "language": "python",
   "name": "python3"
  },
  "language_info": {
   "codemirror_mode": {
    "name": "ipython",
    "version": 3
   },
   "file_extension": ".py",
   "mimetype": "text/x-python",
   "name": "python",
   "nbconvert_exporter": "python",
   "pygments_lexer": "ipython3",
   "version": "3.12.3"
  }
 },
 "nbformat": 4,
 "nbformat_minor": 5
}
